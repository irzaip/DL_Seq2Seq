{
 "cells": [
  {
   "cell_type": "code",
   "execution_count": 21,
   "metadata": {},
   "outputs": [],
   "source": [
    "import pickle\n",
    "import numpy as np\n",
    "from sklearn.model_selection import train_test_split\n",
    "from keras.models import Sequential\n",
    "from keras.layers.recurrent import LSTM,SimpleRNN\n",
    "from keras import optimizers"
   ]
  },
  {
   "cell_type": "code",
   "execution_count": 47,
   "metadata": {},
   "outputs": [],
   "source": [
    "sorted_que = np.array(pickle.load(open('sorted_que.pickle','rb')))\n",
    "sorted_ans = np.array(pickle.load(open('sorted_ans.pickle','rb')))"
   ]
  },
  {
   "cell_type": "code",
   "execution_count": 76,
   "metadata": {},
   "outputs": [
    {
     "data": {
      "text/plain": [
       "array([[[10032],\n",
       "        [10031],\n",
       "        [10030],\n",
       "        ...,\n",
       "        [10030],\n",
       "        [10030],\n",
       "        [10030]],\n",
       "\n",
       "       [[   74],\n",
       "        [10031],\n",
       "        [10030],\n",
       "        ...,\n",
       "        [10030],\n",
       "        [10030],\n",
       "        [10030]],\n",
       "\n",
       "       [[   68],\n",
       "        [10031],\n",
       "        [10030],\n",
       "        ...,\n",
       "        [10030],\n",
       "        [10030],\n",
       "        [10030]],\n",
       "\n",
       "       ...,\n",
       "\n",
       "       [[ 9330],\n",
       "        [  353],\n",
       "        [ 1346],\n",
       "        ...,\n",
       "        [  496],\n",
       "        [10031],\n",
       "        [10030]],\n",
       "\n",
       "       [[ 9344],\n",
       "        [ 3164],\n",
       "        [    2],\n",
       "        ...,\n",
       "        [   98],\n",
       "        [10031],\n",
       "        [10030]],\n",
       "\n",
       "       [[ 9346],\n",
       "        [  353],\n",
       "        [  632],\n",
       "        ...,\n",
       "        [ 6011],\n",
       "        [10031],\n",
       "        [10030]]])"
      ]
     },
     "execution_count": 76,
     "metadata": {},
     "output_type": "execute_result"
    }
   ],
   "source": [
    "sorted_que.reshape(692731,25,1)\n",
    "sorted_ans.reshape(692731,25,1)"
   ]
  },
  {
   "cell_type": "code",
   "execution_count": 77,
   "metadata": {},
   "outputs": [],
   "source": [
    "x_train,x_test, y_train,y_test = train_test_split(sorted_que, sorted_ans, test_size=0.2, random_state=1)"
   ]
  },
  {
   "cell_type": "code",
   "execution_count": 78,
   "metadata": {},
   "outputs": [
    {
     "data": {
      "text/plain": [
       "(554184, 138547)"
      ]
     },
     "execution_count": 78,
     "metadata": {},
     "output_type": "execute_result"
    }
   ],
   "source": [
    "len(x_train),len(x_test)"
   ]
  },
  {
   "cell_type": "code",
   "execution_count": 91,
   "metadata": {},
   "outputs": [],
   "source": [
    "x_train = x_train.reshape(554184,25,1)\n",
    "y_train = y_train.reshape(554184,25,1)\n",
    "x_test = x_test.reshape(138547,25,1)\n",
    "y_test = y_test.reshape(138547,25,1)"
   ]
  },
  {
   "cell_type": "code",
   "execution_count": 55,
   "metadata": {},
   "outputs": [],
   "source": [
    "import keras"
   ]
  },
  {
   "cell_type": "code",
   "execution_count": 92,
   "metadata": {},
   "outputs": [
    {
     "data": {
      "text/plain": [
       "(554184, 25, 1)"
      ]
     },
     "execution_count": 92,
     "metadata": {},
     "output_type": "execute_result"
    }
   ],
   "source": [
    "x_train.shape"
   ]
  },
  {
   "cell_type": "code",
   "execution_count": 93,
   "metadata": {},
   "outputs": [],
   "source": [
    "model=Sequential()\n",
    "model.add(LSTM(input_shape=(25,1), return_sequences=True, units=1,activation=\"sigmoid\", kernel_initializer=\"glorot_normal\", recurrent_initializer=\"glorot_normal\"))\n",
    "model.add(LSTM(input_shape=(25, 1), return_sequences=True, units=1, activation=\"sigmoid\", kernel_initializer=\"glorot_normal\", recurrent_initializer=\"glorot_normal\"))\n",
    "#model.add(LSTM(input_shape=(25, 1), return_sequences=True, activation=\"sigmoid\", units=300, kernel_initializer=\"glorot_normal\", recurrent_initializer=\"glorot_normal\"))\n",
    "#model.add(LSTM(input_shape=(25, 1), return_sequences=True, activation=\"sigmoid\", units=300, kernel_initializer=\"glorot_normal\", recurrent_initializer=\"glorot_normal\"))\n",
    "adam = optimizers.Adam(lr=0.0001, beta_1=0.9, beta_2=0.999, epsilon=None, decay=0.0, amsgrad=False)\n",
    "\n",
    "model.compile(loss='cosine_proximity', optimizer=adam, metrics=['accuracy'])"
   ]
  },
  {
   "cell_type": "code",
   "execution_count": 94,
   "metadata": {},
   "outputs": [
    {
     "name": "stdout",
     "output_type": "stream",
     "text": [
      "_________________________________________________________________\n",
      "Layer (type)                 Output Shape              Param #   \n",
      "=================================================================\n",
      "lstm_25 (LSTM)               (None, 25, 1)             12        \n",
      "=================================================================\n",
      "Total params: 12\n",
      "Trainable params: 12\n",
      "Non-trainable params: 0\n",
      "_________________________________________________________________\n"
     ]
    }
   ],
   "source": [
    "model.summary()"
   ]
  },
  {
   "cell_type": "code",
   "execution_count": 96,
   "metadata": {},
   "outputs": [
    {
     "name": "stdout",
     "output_type": "stream",
     "text": [
      "Train on 554184 samples, validate on 138547 samples\n",
      "Epoch 1/1\n",
      "554184/554184 [==============================] - 143s 259us/step - loss: -1.0000 - acc: 8.6614e-07 - val_loss: -1.0000 - val_acc: 1.7323e-06\n"
     ]
    },
    {
     "data": {
      "text/plain": [
       "<keras.callbacks.History at 0x1eec431dc88>"
      ]
     },
     "execution_count": 96,
     "metadata": {},
     "output_type": "execute_result"
    }
   ],
   "source": [
    "model.fit(x_train, y_train, epochs=1,validation_data=(x_test, y_test))\n",
    "#model.save('LSTM500.h5');"
   ]
  },
  {
   "cell_type": "code",
   "execution_count": null,
   "metadata": {},
   "outputs": [],
   "source": []
  }
 ],
 "metadata": {
  "kernelspec": {
   "display_name": "Python 3",
   "language": "python",
   "name": "python3"
  },
  "language_info": {
   "codemirror_mode": {
    "name": "ipython",
    "version": 3
   },
   "file_extension": ".py",
   "mimetype": "text/x-python",
   "name": "python",
   "nbconvert_exporter": "python",
   "pygments_lexer": "ipython3",
   "version": "3.6.4"
  }
 },
 "nbformat": 4,
 "nbformat_minor": 2
}
