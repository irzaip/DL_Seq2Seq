{
 "cells": [
  {
   "cell_type": "code",
   "execution_count": 1,
   "metadata": {},
   "outputs": [],
   "source": [
    "import nltk\n",
    "import re\n",
    "import sklearn\n",
    "import numpy as np"
   ]
  },
  {
   "cell_type": "code",
   "execution_count": 8,
   "metadata": {},
   "outputs": [],
   "source": [
    "question = open('question_1.txt','r').readlines()\n",
    "answer = open('answer_1.txt','r').readlines()"
   ]
  },
  {
   "cell_type": "code",
   "execution_count": 9,
   "metadata": {},
   "outputs": [
    {
     "data": {
      "text/plain": [
       "(692746, 692746)"
      ]
     },
     "execution_count": 9,
     "metadata": {},
     "output_type": "execute_result"
    }
   ],
   "source": [
    "len(question),len(answer)"
   ]
  },
  {
   "cell_type": "code",
   "execution_count": 12,
   "metadata": {},
   "outputs": [
    {
     "data": {
      "text/plain": [
       "1385492"
      ]
     },
     "execution_count": 12,
     "metadata": {},
     "output_type": "execute_result"
    }
   ],
   "source": [
    "len(question + answer)"
   ]
  },
  {
   "cell_type": "markdown",
   "metadata": {},
   "source": [
    "### Buat text_to_sequence encoding"
   ]
  },
  {
   "cell_type": "code",
   "execution_count": 159,
   "metadata": {},
   "outputs": [],
   "source": [
    "from keras.preprocessing.text import Tokenizer\n",
    "\n",
    "tokenizer = Tokenizer(num_words=5000)\n",
    "tokenizer.fit_on_texts(question+answer)\n",
    "\n",
    "que_train = tokenizer.texts_to_sequences(question)\n",
    "ans_train = tokenizer.texts_to_sequences(answer)\n",
    "vocab_size = len(tokenizer.word_index) + 1  # Adding 1 because of reserved 0 index"
   ]
  },
  {
   "cell_type": "code",
   "execution_count": 160,
   "metadata": {
    "scrolled": true
   },
   "outputs": [
    {
     "data": {
      "text/plain": [
       "(692746, 692746)"
      ]
     },
     "execution_count": 160,
     "metadata": {},
     "output_type": "execute_result"
    }
   ],
   "source": [
    "len(que_train),len(ans_train)"
   ]
  },
  {
   "cell_type": "code",
   "execution_count": 161,
   "metadata": {},
   "outputs": [],
   "source": [
    "tkn = tokenizer.word_index"
   ]
  },
  {
   "cell_type": "code",
   "execution_count": 162,
   "metadata": {},
   "outputs": [],
   "source": [
    "def seq_to_text(dictword,seqs):\n",
    "    \"Konversi list kalimat di match dengan index yg ada di dictword.\"\n",
    "    result=[]\n",
    "    for i in seqs:\n",
    "        try:\n",
    "            result.append(list(dictword.keys())[list(dictword.values()).index(i)])\n",
    "        except:\n",
    "            result.append(\"\")\n",
    "    return result"
   ]
  },
  {
   "cell_type": "code",
   "execution_count": 163,
   "metadata": {},
   "outputs": [],
   "source": [
    "def transposer(plist,multiplier,mult=True):\n",
    "    \"\"\"Mengalikan list angka, menjadi sebuah \n",
    "    float dengan perbandingan tertentu. \\\n",
    "    Apabila mult = true maka akan dikalikan \\\n",
    "    apabila tidak, maka akan dibagi.\"\"\"\n",
    "    for idx,i in enumerate(plist):\n",
    "        for idy, h in enumerate(i):\n",
    "            if mult:\n",
    "                i[idy] = int(h * multiplier)\n",
    "            else:\n",
    "                try:\n",
    "                    i[idy] = h / multiplier\n",
    "                except:\n",
    "                    print('some error - when dividing')\n",
    "    return plist"
   ]
  },
  {
   "cell_type": "markdown",
   "metadata": {},
   "source": [
    "### Jadikan list sebuah rangkaian Float sequence"
   ]
  },
  {
   "cell_type": "code",
   "execution_count": 164,
   "metadata": {},
   "outputs": [],
   "source": [
    "from keras.preprocessing.sequence import pad_sequences\n",
    "\n",
    "maxlen = 25\n",
    "\n",
    "que_train = pad_sequences(que_train, padding='post', maxlen=maxlen)\n",
    "ans_train = pad_sequences(ans_train, padding='post', maxlen=maxlen)"
   ]
  },
  {
   "cell_type": "code",
   "execution_count": 71,
   "metadata": {},
   "outputs": [],
   "source": [
    "magicnum = 32768\n",
    "que_train = que_train / magicnum\n",
    "ans_train = ans_train / magicnum"
   ]
  },
  {
   "cell_type": "code",
   "execution_count": 165,
   "metadata": {},
   "outputs": [],
   "source": [
    "from sklearn.model_selection import train_test_split\n",
    "\n",
    "X_train, X_test, y_train, y_test = train_test_split(que_train, ans_train, test_size=0.2)"
   ]
  },
  {
   "cell_type": "code",
   "execution_count": 192,
   "metadata": {},
   "outputs": [],
   "source": [
    "X_train = X_train.reshape(X_train.shape[0],X_train.shape[1],1)\n",
    "y_train = y_train.reshape(y_train.shape[0],y_train.shape[1],1)\n",
    "X_test = X_test.reshape(X_test.shape[0],X_test.shape[1],1)\n",
    "y_test = y_test.reshape(y_test.shape[0],y_test.shape[1],1)"
   ]
  },
  {
   "cell_type": "code",
   "execution_count": 193,
   "metadata": {},
   "outputs": [],
   "source": [
    "import matplotlib.pyplot as plt\n",
    "plt.style.use('ggplot')\n",
    "\n",
    "def plot_history(history):\n",
    "    acc = history.history['acc']\n",
    "    val_acc = history.history['val_acc']\n",
    "    loss = history.history['loss']\n",
    "    val_loss = history.history['val_loss']\n",
    "    x = range(1, len(acc) + 1)\n",
    "\n",
    "    plt.figure(figsize=(12, 5))\n",
    "    plt.subplot(1, 2, 1)\n",
    "    plt.plot(x, acc, 'b', label='Training acc')\n",
    "    plt.plot(x, val_acc, 'r', label='Validation acc')\n",
    "    plt.title('Training and validation accuracy')\n",
    "    plt.legend()\n",
    "    plt.subplot(1, 2, 2)\n",
    "    plt.plot(x, loss, 'b', label='Training loss')\n",
    "    plt.plot(x, val_loss, 'r', label='Validation loss')\n",
    "    plt.title('Training and validation loss')\n",
    "    plt.legend()"
   ]
  },
  {
   "cell_type": "code",
   "execution_count": null,
   "metadata": {},
   "outputs": [],
   "source": []
  },
  {
   "cell_type": "code",
   "execution_count": 194,
   "metadata": {},
   "outputs": [
    {
     "name": "stdout",
     "output_type": "stream",
     "text": [
      "_________________________________________________________________\n",
      "Layer (type)                 Output Shape              Param #   \n",
      "=================================================================\n",
      "lstm_5 (LSTM)                (None, 30, 1)             12        \n",
      "_________________________________________________________________\n",
      "lstm_6 (LSTM)                (None, 30, 1)             12        \n",
      "=================================================================\n",
      "Total params: 24\n",
      "Trainable params: 24\n",
      "Non-trainable params: 0\n",
      "_________________________________________________________________\n"
     ]
    }
   ],
   "source": [
    "import pickle\n",
    "import numpy as np\n",
    "from sklearn.model_selection import train_test_split\n",
    "from keras.models import Sequential\n",
    "from keras.layers.recurrent import LSTM,SimpleRNN\n",
    "from keras import optimizers\n",
    "\n",
    "model=Sequential()\n",
    "model.add(LSTM(input_shape=(30,1), return_sequences=True, units=1,activation=\"sigmoid\", kernel_initializer=\"glorot_normal\", recurrent_initializer=\"glorot_normal\"))\n",
    "model.add(LSTM(input_shape=(30, 1), return_sequences=True, units=1, activation=\"sigmoid\", kernel_initializer=\"glorot_normal\", recurrent_initializer=\"glorot_normal\"))\n",
    "#model.add(LSTM(input_shape=(25, 1), return_sequences=True, activation=\"sigmoid\", units=300, kernel_initializer=\"glorot_normal\", recurrent_initializer=\"glorot_normal\"))\n",
    "#model.add(LSTM(input_shape=(25, 1), return_sequences=True, activation=\"sigmoid\", units=300, kernel_initializer=\"glorot_normal\", recurrent_initializer=\"glorot_normal\"))\n",
    "adam = optimizers.Adam(lr=0.0001, beta_1=0.9, beta_2=0.999, epsilon=None, decay=0.0, amsgrad=False)\n",
    "\n",
    "model.compile(loss='cosine_proximity', optimizer=adam, metrics=['accuracy'])\n",
    "model.summary()"
   ]
  },
  {
   "cell_type": "code",
   "execution_count": 196,
   "metadata": {},
   "outputs": [
    {
     "name": "stdout",
     "output_type": "stream",
     "text": [
      "Train on 554196 samples, validate on 138550 samples\n",
      "Epoch 1/10\n",
      "554196/554196 [==============================] - 265s 479us/step - loss: -0.1137 - acc: 0.8863 - val_loss: -0.1137 - val_acc: 0.8863\n",
      "Epoch 2/10\n",
      "554196/554196 [==============================] - 264s 477us/step - loss: -0.1137 - acc: 0.8863 - val_loss: -0.1137 - val_acc: 0.8863\n",
      "Epoch 3/10\n",
      "554196/554196 [==============================] - 265s 479us/step - loss: -0.1137 - acc: 0.8863 - val_loss: -0.1137 - val_acc: 0.8863\n",
      "Epoch 4/10\n",
      "554196/554196 [==============================] - 271s 488us/step - loss: -0.1137 - acc: 0.8863 - val_loss: -0.1137 - val_acc: 0.8863\n",
      "Epoch 5/10\n",
      "554196/554196 [==============================] - 272s 491us/step - loss: -0.1137 - acc: 0.8863 - val_loss: -0.1137 - val_acc: 0.8863\n",
      "Epoch 6/10\n",
      "554196/554196 [==============================] - 276s 498us/step - loss: -0.1137 - acc: 0.8863 - val_loss: -0.1137 - val_acc: 0.8863\n",
      "Epoch 7/10\n",
      "554196/554196 [==============================] - 279s 503us/step - loss: -0.1137 - acc: 0.8863 - val_loss: -0.1137 - val_acc: 0.8863\n",
      "Epoch 8/10\n",
      "554196/554196 [==============================] - 271s 489us/step - loss: -0.1137 - acc: 0.8863 - val_loss: -0.1137 - val_acc: 0.8863\n",
      "Epoch 9/10\n",
      "554196/554196 [==============================] - 274s 494us/step - loss: -0.1137 - acc: 0.8863 - val_loss: -0.1137 - val_acc: 0.8863\n",
      "Epoch 10/10\n",
      "554196/554196 [==============================] - 275s 495us/step - loss: -0.1137 - acc: 0.8863 - val_loss: -0.1137 - val_acc: 0.8863\n",
      "Training Accuracy: 0.8863\n",
      "Testing Accuracy:  0.8863\n"
     ]
    },
    {
     "data": {
      "image/png": "[encoded data removed]",
      "text/plain": [
       "<matplotlib.figure.Figure at 0x205b8f2fa90>"
      ]
     },
     "metadata": {},
     "output_type": "display_data"
    }
   ],
   "source": [
    "history = model.fit(X_train, y_train, epochs=10,validation_data=(X_test, y_test))\n",
    "#model.save('LSTM500.h5');\n",
    "loss, accuracy = model.evaluate(X_train, y_train, verbose=False)\n",
    "print(\"Training Accuracy: {:.4f}\".format(accuracy))\n",
    "loss, accuracy = model.evaluate(X_test, y_test, verbose=False)\n",
    "print(\"Testing Accuracy:  {:.4f}\".format(accuracy))\n",
    "plot_history(history)"
   ]
  },
  {
   "cell_type": "code",
   "execution_count": null,
   "metadata": {},
   "outputs": [],
   "source": []
  },
  {
   "cell_type": "code",
   "execution_count": null,
   "metadata": {},
   "outputs": [],
   "source": []
  }
 ],
 "metadata": {
  "kernelspec": {
   "display_name": "Python 3",
   "language": "python",
   "name": "python3"
  },
  "language_info": {
   "codemirror_mode": {
    "name": "ipython",
    "version": 3
   },
   "file_extension": ".py",
   "mimetype": "text/x-python",
   "name": "python",
   "nbconvert_exporter": "python",
   "pygments_lexer": "ipython3",
   "version": "3.6.4"
  }
 },
 "nbformat": 4,
 "nbformat_minor": 2
}
